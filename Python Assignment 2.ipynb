{
 "cells": [
  {
   "cell_type": "markdown",
   "id": "f95481d6",
   "metadata": {},
   "source": [
    "# Python Assignment 2"
   ]
  },
  {
   "cell_type": "markdown",
   "id": "8e8e3e46",
   "metadata": {},
   "source": [
    "__1.What are the two values of the boolean data types? how do you write them ?__"
   ]
  },
  {
   "cell_type": "markdown",
   "id": "ff1699f2",
   "metadata": {},
   "source": [
    "Answer: There are two values of the boolean data: `True` & `False`"
   ]
  },
  {
   "cell_type": "code",
   "execution_count": null,
   "id": "b00fdec6",
   "metadata": {},
   "outputs": [],
   "source": [
    "a = True\n",
    "b = False\n",
    "print(a,(type(a)))\n",
    "print(b,(type(b)))"
   ]
  },
  {
   "cell_type": "markdown",
   "id": "3c371951",
   "metadata": {},
   "source": [
    "__2. What are the three different types of Boolean operators?__\n"
   ]
  },
  {
   "cell_type": "markdown",
   "id": "4f6a7906",
   "metadata": {},
   "source": [
    "Answer: The three differnt types of Boolean operators in python are: `or` `and` `not`"
   ]
  },
  {
   "cell_type": "code",
   "execution_count": null,
   "id": "b9dcc34a",
   "metadata": {},
   "outputs": [],
   "source": [
    "a = 10\n",
    "b = 100\n",
    "print(a<50 and b>100)\n",
    "print(a >10 or b <110)\n",
    "print(not(a>10))"
   ]
  },
  {
   "cell_type": "markdown",
   "id": "18efb862",
   "metadata": {},
   "source": [
    "__3. Make a list of each Boolean operator's truth tables (i.e. every possible combination of Boolean values for the operator and what it evaluate) ?__"
   ]
  },
  {
   "cell_type": "markdown",
   "id": "a3a97a4c",
   "metadata": {},
   "source": [
    "Ans: The Truth tables for the boolean tables are as follows:  \n",
    "\n",
    "* Truth Table for and operaotor  \n",
    "True and True is True  \n",
    "True and False is False  \n",
    "False and True is False  \n",
    "False and False is False  \n",
    "* Truth Table for or operaotor  \n",
    "True and True is True  \n",
    "True and False is True  \n",
    "False and True is True  \n",
    "False and False is False  \n",
    "* Truth Table for not operaotor  \n",
    "True not is False False not is True"
   ]
  },
  {
   "cell_type": "markdown",
   "id": "3b35cdb1",
   "metadata": {},
   "source": [
    "__4. What are the values of the following expressions ?__  \n",
    "(5 > 4) and (3 == 5)  \n",
    "not (5 > 4)  \n",
    "(5 > 4) or (3 == 5)  \n",
    "not ((5 > 4) or (3 == 5))  \n",
    "(True and True) and (True == False)  \n",
    "(not False) or (not True)"
   ]
  },
  {
   "cell_type": "code",
   "execution_count": null,
   "id": "2051e3bd",
   "metadata": {},
   "outputs": [],
   "source": [
    "print((5 > 4) and (3 == 5))\n",
    "print(not (5 > 4))\n",
    "print((5 > 4) or (3 == 5))\n",
    "print(not ((5 > 4) or (3 == 5)))\n",
    "print((True and True) and (True == False))\n",
    "print((not False) or (not True))"
   ]
  },
  {
   "cell_type": "markdown",
   "id": "43e42dff",
   "metadata": {},
   "source": [
    "__5. What are the six comparison operators?__"
   ]
  },
  {
   "cell_type": "markdown",
   "id": "1c29235b",
   "metadata": {},
   "source": [
    "Answer: The Six comparision operators available in python are:  \n",
    "`==` , `!=` , `<` , `>` , `<=` , `=>`"
   ]
  },
  {
   "cell_type": "markdown",
   "id": "4cb18862",
   "metadata": {},
   "source": [
    "__6. How do you tell the difference between the equal to and assignment operators?Describe a condition and when you would use one ?__"
   ]
  },
  {
   "cell_type": "markdown",
   "id": "79e98160",
   "metadata": {},
   "source": [
    "Answer: `==` is the equal to operator that compares two values and evaluates to a Boolean, while = is that assignment operator that stores a value in a variable."
   ]
  },
  {
   "cell_type": "code",
   "execution_count": null,
   "id": "7512030e",
   "metadata": {},
   "outputs": [],
   "source": [
    "a = 5 # Assignment operator that store value `5` in a variable\n",
    "if a==7:\n",
    "    print(a) # Comparing values of a varible value and 7"
   ]
  },
  {
   "cell_type": "markdown",
   "id": "ce16e084",
   "metadata": {},
   "source": [
    "__7. Identify the three blocks in this code:__  \n",
    "spam = 0  \n",
    "if spam == 10:  \n",
    "print('eggs')  \n",
    "if spam > 5:  \n",
    "print('bacon')  \n",
    "else:  \n",
    "print('ham')  \n",
    "print('spam')  \n",
    "print('spam')  \n",
    "\n"
   ]
  },
  {
   "cell_type": "markdown",
   "id": "d0e9c0b5",
   "metadata": {},
   "source": [
    "Answer: In Python, code block refers to a collection of code that is in the same block or indent. This is most commonly found in classes, functions, and loops."
   ]
  },
  {
   "cell_type": "code",
   "execution_count": 3,
   "id": "2e9284cd",
   "metadata": {},
   "outputs": [
    {
     "name": "stdout",
     "output_type": "stream",
     "text": [
      "ham\n",
      "spam\n",
      "spam\n"
     ]
    }
   ],
   "source": [
    "spam = 0\n",
    "if spam == 10:\n",
    "    print('eggs') # block 1\n",
    "elif spam > 5:\n",
    "    print('bacon') # block 2\n",
    "else:\n",
    "    print('ham') # block 3\n",
    "print('spam')\n",
    "print('spam')"
   ]
  },
  {
   "cell_type": "markdown",
   "id": "87c6f402",
   "metadata": {},
   "source": [
    "__8. Write code that prints Hello if 1 is stored in spam, prints Howdy if 2 is stored in spam, and prints Greetings! if anything else is stored in spam.__"
   ]
  },
  {
   "cell_type": "code",
   "execution_count": 4,
   "id": "b263a839",
   "metadata": {},
   "outputs": [
    {
     "name": "stdout",
     "output_type": "stream",
     "text": [
      "Hello\n",
      "Howdy\n",
      "Greetings\n"
     ]
    }
   ],
   "source": [
    "def spamcode(spam):\n",
    "    if spam ==1:\n",
    "        print('Hello')\n",
    "    elif spam ==2:\n",
    "        print('Howdy')\n",
    "    else:\n",
    "        print('Greetings')\n",
    "    \n",
    "spamcode(1)\n",
    "spamcode(2)\n",
    "spamcode(3)"
   ]
  },
  {
   "cell_type": "markdown",
   "id": "98f680f2",
   "metadata": {},
   "source": [
    "__9.If your programme is stuck in an endless loop, what keys you’ll press?__"
   ]
  },
  {
   "cell_type": "markdown",
   "id": "6e3e1c48",
   "metadata": {},
   "source": [
    "Answer: Press Ctrl-c to stop a program stuck in an infinite loop"
   ]
  },
  {
   "cell_type": "markdown",
   "id": "72135769",
   "metadata": {},
   "source": [
    "__10. How can you tell the difference between break and continue?__"
   ]
  },
  {
   "cell_type": "markdown",
   "id": "3bcbb5e0",
   "metadata": {},
   "source": [
    "Answer: The break statement will move the execution outside the loop if break condtion is satisfied. Whereas the continue statement will move the execution to the start of the loop."
   ]
  },
  {
   "cell_type": "markdown",
   "id": "4dfc8413",
   "metadata": {},
   "source": [
    "__11. In a for loop, what is the difference between range(10), range(0, 10), and range(0, 10, 1)?__"
   ]
  },
  {
   "cell_type": "markdown",
   "id": "c898d427",
   "metadata": {},
   "source": [
    "Answer: The Differences are as follows:\n",
    "\n",
    "* The range(10) call range from 0 to 9 (but not include 10)\n",
    "* The range (0,10) explicitly tells the loop to start at 0\n",
    "* The range(0,10,1) explicitly tells the loop to increase the variable by 1 on each iteration"
   ]
  },
  {
   "cell_type": "markdown",
   "id": "afdf6aaa",
   "metadata": {},
   "source": [
    "__12. Write a short program that prints the numbers 1 to 10 using a for loop. Then write an equivalent program that prints the numbers 1 to 10 using a while loop ?__"
   ]
  },
  {
   "cell_type": "code",
   "execution_count": 7,
   "id": "d935b88a",
   "metadata": {},
   "outputs": [
    {
     "name": "stdout",
     "output_type": "stream",
     "text": [
      "Using For Loop\n",
      "1 2 3 4 5 6 7 8 9 10 \n",
      "\n",
      "Using While Loop\n",
      "1 2 3 4 5 6 7 8 9 10 "
     ]
    }
   ],
   "source": [
    "print('Using For Loop')\n",
    "for i in range(1,11):\n",
    "    print(i, end=\" \")\n",
    "print('\\n')\n",
    "print('Using While Loop') \n",
    "i=1\n",
    "while i<=10:\n",
    "    print(i, end=\" \")\n",
    "    i+=1"
   ]
  },
  {
   "cell_type": "markdown",
   "id": "1beffffa",
   "metadata": {},
   "source": [
    "__13. If you had a function named bacon() inside a module named spam, how would you call it after importing spam ?__"
   ]
  },
  {
   "cell_type": "markdown",
   "id": "0089c114",
   "metadata": {},
   "source": [
    "Answer: This function can be called with `spam.bacon()`"
   ]
  }
 ],
 "metadata": {
  "kernelspec": {
   "display_name": "Python 3",
   "language": "python",
   "name": "python3"
  },
  "language_info": {
   "codemirror_mode": {
    "name": "ipython",
    "version": 3
   },
   "file_extension": ".py",
   "mimetype": "text/x-python",
   "name": "python",
   "nbconvert_exporter": "python",
   "pygments_lexer": "ipython3",
   "version": "3.8.8"
  }
 },
 "nbformat": 4,
 "nbformat_minor": 5
}
