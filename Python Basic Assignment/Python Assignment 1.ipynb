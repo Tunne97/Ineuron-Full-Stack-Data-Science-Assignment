{
 "cells": [
  {
   "cell_type": "markdown",
   "id": "6d285f8a",
   "metadata": {},
   "source": [
    "# Python Assignment 1"
   ]
  },
  {
   "attachments": {},
   "cell_type": "markdown",
   "id": "deb790c4",
   "metadata": {},
   "source": [
    "1. In the below elements which of them are values or an expression? eg:- values can be integer or string and expressions will be mathematical operators.\n",
    "`*,'hello', -87.8,-,/,+,6`\n"
   ]
  },
  {
   "cell_type": "markdown",
   "id": "9f6e11a5",
   "metadata": {},
   "source": [
    "Answer: \n",
    "Expressions are `'hello', -87.8, 6`\n",
    "Operators are `*, -, /, +`"
   ]
  },
  {
   "attachments": {},
   "cell_type": "markdown",
   "id": "d4da1b2d",
   "metadata": {},
   "source": [
    "2. What is the difference between string and variable?"
   ]
  },
  {
   "cell_type": "markdown",
   "id": "cefc3aa9",
   "metadata": {},
   "source": [
    "Answer: A Variable is used to store of information, and a String is a type of information you would store in a Variable. A String is a group of characters or a single character usually enclosed in Double quotes \" \" or single quotes ' '"
   ]
  },
  {
   "cell_type": "markdown",
   "id": "715c7dec",
   "metadata": {},
   "source": [
    "3. Describe three different data types."
   ]
  },
  {
   "cell_type": "markdown",
   "id": "6ead63a8",
   "metadata": {},
   "source": [
    "\n",
    "* Floating-Point Numbers: are specified with a decimal point\n",
    "* Integers: represent whole numbers (integral values)\n",
    "* Boolean: Objects of Boolean type may have one of two values, True or False."
   ]
  },
  {
   "cell_type": "code",
   "execution_count": 3,
   "id": "dc357137",
   "metadata": {},
   "outputs": [
    {
     "name": "stdout",
     "output_type": "stream",
     "text": [
      "99.9 <class 'float'>\n",
      "1997 <class 'int'>\n",
      "True <class 'bool'>\n"
     ]
    }
   ],
   "source": [
    "# Example of Floating-Point Number\n",
    "flo = 99.9\n",
    "print(flo,type(flo))\n",
    "# Example of Intergers\n",
    "inte = 1997\n",
    "print(inte,type(inte))\n",
    "# Example of Boolean\n",
    "bol = True\n",
    "print(bol,type(bol))"
   ]
  },
  {
   "attachments": {},
   "cell_type": "markdown",
   "id": "07bee3b1",
   "metadata": {},
   "source": [
    "4. What is an expression made up of? What do all expressions do?"
   ]
  },
  {
   "cell_type": "markdown",
   "id": "81acf959",
   "metadata": {},
   "source": [
    "Answer: An expression is a construct made up of variables, operators, and method invocations, which are constructed according to the syntax of the language, that evaluates to a single value.\n",
    "An expression is a combination of operators and operands that is interpreted to produce some other value. In any programming language, an expression is evaluated as per the precedence of its operators."
   ]
  },
  {
   "cell_type": "code",
   "execution_count": 5,
   "id": "c87a081b",
   "metadata": {},
   "outputs": [
    {
     "name": "stdout",
     "output_type": "stream",
     "text": [
      "3.2857142857142856\n"
     ]
    }
   ],
   "source": [
    "Answer: exp = 5*6/7-1\n",
    "print(exp)"
   ]
  },
  {
   "cell_type": "markdown",
   "id": "27fdcb0d",
   "metadata": {},
   "source": [
    "5. This assignment statements, like spam = 10. What is the difference between an expression and a statement?"
   ]
  },
  {
   "cell_type": "markdown",
   "id": "9f4cfd1d",
   "metadata": {},
   "source": [
    "Answer: an “expression” is a combination of values and functions that are combined and interpreted by the compiler to create a new value, as opposed to a “statement” which is just a standalone unit of execution and doesn't return anything."
   ]
  },
  {
   "cell_type": "code",
   "execution_count": 6,
   "id": "709879a6",
   "metadata": {},
   "outputs": [],
   "source": [
    "x = 'hello' # this is a statement\n",
    "y = 5*6-30 # this is an expression"
   ]
  },
  {
   "cell_type": "markdown",
   "id": "56184f52",
   "metadata": {},
   "source": [
    "6. After running the following code, what does the variable bacon contain?\n",
    "`bacon = 22 `\n",
    "`bacon + 1`\n"
   ]
  },
  {
   "cell_type": "code",
   "execution_count": 15,
   "id": "c9a18d21",
   "metadata": {},
   "outputs": [
    {
     "name": "stdout",
     "output_type": "stream",
     "text": [
      "23\n"
     ]
    }
   ],
   "source": [
    "bacon = 22\n",
    "bacon += 1\n",
    "print(bacon) # Answer: 23"
   ]
  },
  {
   "cell_type": "markdown",
   "id": "a68ba8be",
   "metadata": {},
   "source": [
    "7. What should the values of the following two terms be?\n",
    "`'spam' + 'spamspam'`\n",
    "`'spam' * 3`\n"
   ]
  },
  {
   "cell_type": "code",
   "execution_count": 19,
   "id": "6c145c4b",
   "metadata": {},
   "outputs": [
    {
     "name": "stdout",
     "output_type": "stream",
     "text": [
      "spamspamspam\n",
      "spamspamspam\n"
     ]
    }
   ],
   "source": [
    "t1 = 'spam' + 'spamspam'\n",
    "t2 = 'spam' * 3\n",
    "print(t1)\n",
    "print(t2) # Answer: Same values 'spamspamspam'"
   ]
  },
  {
   "attachments": {},
   "cell_type": "markdown",
   "id": "1c0d81f4",
   "metadata": {},
   "source": [
    "8. Why is eggs a valid variable name while 100 is invalid?"
   ]
  },
  {
   "cell_type": "markdown",
   "id": "794e8fb7",
   "metadata": {},
   "source": [
    "Answer: As per python,Variable names cannot begin with a number. The python rules for naming a variable are :-\n",
    "\n",
    "* Variable name must start with a letter or the underscore character.\n",
    "* Variable name cannot start with a number.\n",
    "* Variable name can only contain alpha-numeric characters and underscores (A-z, 0-9, & _ ).\n",
    "* Variable names are case-sensitive (name, INEURON and ineuron are three different variables).\n",
    "* The reserved words(keywords) cannot be used naming the variable."
   ]
  },
  {
   "attachments": {},
   "cell_type": "markdown",
   "id": "afeb6ece",
   "metadata": {},
   "source": [
    "9. What three functions can be used to get the integer, floating-point number, or string version of a value?"
   ]
  },
  {
   "cell_type": "markdown",
   "id": "7e56d3dc",
   "metadata": {},
   "source": [
    "Answer: The `int()`,`float()`,and `str()` functions will evaluate to the integer,floating-point number,string version of the value passed to them."
   ]
  },
  {
   "cell_type": "code",
   "execution_count": 22,
   "id": "b92aeafe",
   "metadata": {},
   "outputs": [
    {
     "name": "stdout",
     "output_type": "stream",
     "text": [
      "-> 97\n",
      "-> 30.0\n",
      "-> 10\n"
     ]
    }
   ],
   "source": [
    "print('->',int(97.1))\n",
    "print('->',float(30))\n",
    "print('->',str(10))\n"
   ]
  },
  {
   "attachments": {},
   "cell_type": "markdown",
   "id": "ae276376",
   "metadata": {},
   "source": [
    "10. Why does this expression cause an error? How can you fix it?\n",
    "`'I have eaten ' + 99 + ' burritos.'`"
   ]
  },
  {
   "cell_type": "markdown",
   "id": "7ae8b01c",
   "metadata": {},
   "source": [
    "'I have eaten ' + 99 + ' burritos.' # error: int cannot be concatenated"
   ]
  },
  {
   "cell_type": "code",
   "execution_count": 33,
   "id": "472a74a3",
   "metadata": {},
   "outputs": [
    {
     "name": "stdout",
     "output_type": "stream",
     "text": [
      "I have eaten 99 burritos\n"
     ]
    }
   ],
   "source": [
    "print('I have eaten '+str(99)+' burritos') #fixed"
   ]
  }
 ],
 "metadata": {
  "kernelspec": {
   "display_name": "Python 3",
   "language": "python",
   "name": "python3"
  },
  "language_info": {
   "codemirror_mode": {
    "name": "ipython",
    "version": 3
   },
   "file_extension": ".py",
   "mimetype": "text/x-python",
   "name": "python",
   "nbconvert_exporter": "python",
   "pygments_lexer": "ipython3",
   "version": "3.8.8"
  }
 },
 "nbformat": 4,
 "nbformat_minor": 5
}
