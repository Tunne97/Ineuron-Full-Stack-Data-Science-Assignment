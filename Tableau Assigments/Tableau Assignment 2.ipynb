{
 "cells": [
  {
   "cell_type": "markdown",
   "id": "02c9c216",
   "metadata": {},
   "source": [
    "# Tableau Assignment 2"
   ]
  },
  {
   "cell_type": "markdown",
   "id": "724950cb",
   "metadata": {},
   "source": [
    "`workbook link`: https://public.tableau.com/views/iNeuron-Assignment2-Superstore_CanadaDS/Dashboard1?:language=en-US&:display_count=n&:origin=viz_share_link"
   ]
  },
  {
   "cell_type": "markdown",
   "id": "2160e2e5",
   "metadata": {},
   "source": [
    "## 1.Use – Superstore_Canada.xls and format your numbers exactly like shown in screenshot below ?\n"
   ]
  },
  {
   "cell_type": "markdown",
   "id": "f6bd50f2",
   "metadata": {},
   "source": [
    "###### <img src=\"downloads/Sheet 1.png\" width=\"750\" height=\"200\">"
   ]
  },
  {
   "cell_type": "markdown",
   "id": "ca0786b5",
   "metadata": {},
   "source": [
    "## 2.Use – Superstore_Canada.xls and format your numbers exactly like shown in screenshot below ?\n"
   ]
  },
  {
   "cell_type": "markdown",
   "id": "aa780d2b",
   "metadata": {},
   "source": [
    "###### <img src=\"downloads/Sheet 2.png\" width=\"750\" height=\"200\">"
   ]
  },
  {
   "cell_type": "markdown",
   "id": "77969765",
   "metadata": {},
   "source": [
    "## 3.What is the total sales of the store?\n"
   ]
  },
  {
   "cell_type": "markdown",
   "id": "24285337",
   "metadata": {},
   "source": [
    "###### <img src=\"downloads/Sheet 3.png\" width=\"50\" height=\"50\">"
   ]
  },
  {
   "cell_type": "markdown",
   "id": "42d4813d",
   "metadata": {},
   "source": [
    "## 4.What is the total sales of product category = “Furniture”?\n"
   ]
  },
  {
   "cell_type": "markdown",
   "id": "066bb815",
   "metadata": {},
   "source": [
    "###### <img src=\"downloads/Sheet 4.png\" width=\"150\" height=\"50\">"
   ]
  },
  {
   "cell_type": "markdown",
   "id": "a2ae4818",
   "metadata": {},
   "source": [
    "## 5.What is the total sales of product category = “Furniture” sold to Customer Segment = “Corporate”?\n"
   ]
  },
  {
   "cell_type": "markdown",
   "id": "2d6495f8",
   "metadata": {},
   "source": [
    "###### <img src=\"downloads/Sheet 5.png\" width=\"150\" height=\"50\">"
   ]
  },
  {
   "cell_type": "markdown",
   "id": "3ddc8ecc",
   "metadata": {},
   "source": [
    "## 6.Set the default number format of Discount to percentage with 2 decimal places.\n"
   ]
  },
  {
   "cell_type": "markdown",
   "id": "3f18cb54",
   "metadata": {},
   "source": [
    "###### <img src=\"downloads/Sheet 6.png\" width=\"350\" height=\"50\">"
   ]
  },
  {
   "cell_type": "markdown",
   "id": "77f112e4",
   "metadata": {},
   "source": [
    "## 7.Find average discount on each order priority. Which order priority has highest average discount?\n"
   ]
  },
  {
   "cell_type": "markdown",
   "id": "79f7514d",
   "metadata": {},
   "source": [
    "###### <img src=\"downloads/Sheet 7.png\" width=\"150\" height=\"50\">"
   ]
  },
  {
   "cell_type": "markdown",
   "id": "48ebfee3",
   "metadata": {},
   "source": [
    "## 8.For Product Container = “Large Box” which Ship Mode has lowest average shipping cost?\n"
   ]
  },
  {
   "cell_type": "markdown",
   "id": "80242f10",
   "metadata": {},
   "source": [
    "###### <img src=\"downloads/Sheet 8.png\" width=\"150\" height=\"50\">"
   ]
  },
  {
   "cell_type": "markdown",
   "id": "753b6af1",
   "metadata": {},
   "source": [
    "## 9. For Product Container = “Medium Box” which Ship Mode has lowest average shipping cost?\n"
   ]
  },
  {
   "cell_type": "markdown",
   "id": "d629d311",
   "metadata": {},
   "source": [
    "###### <img src=\"downloads/Sheet 8 (2).png\" width=\"150\" height=\"50\">"
   ]
  },
  {
   "cell_type": "markdown",
   "id": "893dee26",
   "metadata": {},
   "source": [
    "## 10.Which Ship Mode uses only “Jumbo” sized Product Containers?\n"
   ]
  },
  {
   "cell_type": "markdown",
   "id": "2597a9ef",
   "metadata": {},
   "source": [
    "###### <img src=\"downloads/Sheet 8 (3).png\" width=\"150\" height=\"50\">"
   ]
  },
  {
   "cell_type": "markdown",
   "id": "c6d75299",
   "metadata": {},
   "source": [
    "## 11.Which Ship Mode doesn’t entertain “Jumbo” sized Product Containers?\n"
   ]
  },
  {
   "cell_type": "markdown",
   "id": "77509df4",
   "metadata": {},
   "source": [
    "###### <img src=\"downloads/Sheet 8 (4).png\" width=\"150\" height=\"50\">"
   ]
  },
  {
   "cell_type": "code",
   "execution_count": null,
   "id": "57c136c3",
   "metadata": {},
   "outputs": [],
   "source": []
  }
 ],
 "metadata": {
  "kernelspec": {
   "display_name": "Python 3",
   "language": "python",
   "name": "python3"
  },
  "language_info": {
   "codemirror_mode": {
    "name": "ipython",
    "version": 3
   },
   "file_extension": ".py",
   "mimetype": "text/x-python",
   "name": "python",
   "nbconvert_exporter": "python",
   "pygments_lexer": "ipython3",
   "version": "3.8.8"
  }
 },
 "nbformat": 4,
 "nbformat_minor": 5
}
