{
 "cells": [
  {
   "cell_type": "markdown",
   "id": "abe6a817",
   "metadata": {},
   "source": [
    "# Tableau Assignment 1"
   ]
  },
  {
   "cell_type": "markdown",
   "id": "0583a4d7",
   "metadata": {},
   "source": [
    "`workbook link` : https://public.tableau.com/views/iNeuronTableauAssignment1-InsideSalesDS/Dashboard1?:language=en-US&:display_count=n&:origin=viz_share_link"
   ]
  },
  {
   "cell_type": "markdown",
   "id": "273a1323",
   "metadata": {},
   "source": [
    "## Show largest selling products and also show what % of sales is coming from which regions."
   ]
  },
  {
   "cell_type": "markdown",
   "id": "1e889b41",
   "metadata": {},
   "source": [
    "<img src=\"downloads/sales by region.png\" width=\"400\" height=\"100\">"
   ]
  },
  {
   "cell_type": "markdown",
   "id": "12275061",
   "metadata": {},
   "source": [
    "## Create a side-by-side bar to compare Actual vs Target sales of different products."
   ]
  },
  {
   "cell_type": "markdown",
   "id": "e0279fe7",
   "metadata": {},
   "source": [
    "<img src=\"downloads/Actual sales vs target sales.png\" width=\"400\" height=\"100\">"
   ]
  },
  {
   "cell_type": "markdown",
   "id": "c81de431",
   "metadata": {},
   "source": [
    "## Create a tree map to show largest selling regions.\n"
   ]
  },
  {
   "attachments": {},
   "cell_type": "markdown",
   "id": "16696cbe",
   "metadata": {},
   "source": [
    "<img src=\"downloads/Tree map - largest selling regions.png\" width=\"400\" height=\"100\">"
   ]
  },
  {
   "cell_type": "markdown",
   "id": "6f39352f",
   "metadata": {},
   "source": [
    "## Create a packed bubble to show product sales.\n"
   ]
  },
  {
   "cell_type": "markdown",
   "id": "1f897aa7",
   "metadata": {},
   "source": [
    "<img src=\"downloads/Bubble chart- Product sales.png\" width=\"400\" height=\"100\">"
   ]
  },
  {
   "cell_type": "markdown",
   "id": "e22b3539",
   "metadata": {},
   "source": [
    "## Create a side by side circle chart to compare actual vs target sales of different products."
   ]
  },
  {
   "cell_type": "markdown",
   "id": "663f5e16",
   "metadata": {},
   "source": [
    "<img src=\"downloads/side-by-side circle chart- actual vs target sales.png\" width=\"400\" height=\"100\">"
   ]
  },
  {
   "cell_type": "code",
   "execution_count": null,
   "id": "6a797c3b",
   "metadata": {},
   "outputs": [],
   "source": []
  }
 ],
 "metadata": {
  "kernelspec": {
   "display_name": "Python 3",
   "language": "python",
   "name": "python3"
  },
  "language_info": {
   "codemirror_mode": {
    "name": "ipython",
    "version": 3
   },
   "file_extension": ".py",
   "mimetype": "text/x-python",
   "name": "python",
   "nbconvert_exporter": "python",
   "pygments_lexer": "ipython3",
   "version": "3.8.8"
  }
 },
 "nbformat": 4,
 "nbformat_minor": 5
}
